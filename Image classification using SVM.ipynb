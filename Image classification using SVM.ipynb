{
 "cells": [
  {
   "cell_type": "markdown",
   "metadata": {},
   "source": [
    "### Dataset preparation"
   ]
  },
  {
   "cell_type": "code",
   "execution_count": 20,
   "metadata": {},
   "outputs": [],
   "source": [
    "import numpy as np\n",
    "from pathlib import Path\n",
    "from keras.preprocessing import image"
   ]
  },
  {
   "cell_type": "code",
   "execution_count": 24,
   "metadata": {},
   "outputs": [
    {
     "name": "stdout",
     "output_type": "stream",
     "text": [
      "Datasets\\Images\n"
     ]
    }
   ],
   "source": [
    "p = Path(\"Datasets/Images/\")\n",
    "print(p)"
   ]
  },
  {
   "cell_type": "code",
   "execution_count": 52,
   "metadata": {},
   "outputs": [],
   "source": [
    "dirs = p.glob(\"*\")\n",
    "\n",
    "labels_dict = {\"cat\":0, \"dog\":1,\"horse\":2,\"human\":3}\n",
    "\n",
    "img_data = []\n",
    "labels = []\n",
    "\n",
    "for folder in dirs:\n",
    "    #print(folder)\n",
    "    label = str(folder).split(\"\\\\\")[-1][:-1]\n",
    "    \n",
    "    for img_path in folder.glob(\"*.jpg\"):\n",
    "        img = image.load_img(img_path,target_size=(32,32))\n",
    "        img_array = image.img_to_array(img)\n",
    "        img_data.append(img_array)\n",
    "        labels.append(labels_dict[label])\n",
    "    "
   ]
  },
  {
   "cell_type": "code",
   "execution_count": 53,
   "metadata": {},
   "outputs": [
    {
     "name": "stdout",
     "output_type": "stream",
     "text": [
      "808\n",
      "808\n"
     ]
    }
   ],
   "source": [
    "print(len(img_data))\n",
    "print(len(labels))"
   ]
  },
  {
   "cell_type": "code",
   "execution_count": 54,
   "metadata": {},
   "outputs": [
    {
     "name": "stdout",
     "output_type": "stream",
     "text": [
      "(808, 32, 32, 3) (808,)\n"
     ]
    }
   ],
   "source": [
    "#convert data into numpy array\n",
    "img_data = np.array(img_data,dtype='float32')/255.0\n",
    "labels = np.array(labels)\n",
    "print(img_data.shape,labels.shape)"
   ]
  },
  {
   "cell_type": "markdown",
   "metadata": {},
   "source": [
    "### Visualize the data"
   ]
  },
  {
   "cell_type": "code",
   "execution_count": 55,
   "metadata": {},
   "outputs": [],
   "source": [
    "import matplotlib.pyplot as plt\n",
    "\n",
    "def drawing(img):\n",
    "    plt.imshow(img)\n",
    "    plt.show\n",
    "    return\n",
    "\n"
   ]
  },
  {
   "cell_type": "code",
   "execution_count": 56,
   "metadata": {},
   "outputs": [
    {
     "data": {
      "image/png": "[encoded data removed]",
      "text/plain": [
       "<Figure size 432x288 with 1 Axes>"
      ]
     },
     "metadata": {
      "needs_background": "light"
     },
     "output_type": "display_data"
    }
   ],
   "source": [
    "drawing(img_data[0])"
   ]
  },
  {
   "cell_type": "markdown",
   "metadata": {},
   "source": [
    "### Randomly shuffle the data"
   ]
  },
  {
   "cell_type": "code",
   "execution_count": 57,
   "metadata": {},
   "outputs": [],
   "source": [
    "import random\n",
    "\n",
    "#we combine the img_data and labels and then shuffle them\n",
    "combined = list(zip(img_data,labels))\n",
    "random.shuffle(combined)\n",
    "\n",
    "#unzip\n",
    "img_data[:],labels[:] = zip(*combined)"
   ]
  },
  {
   "cell_type": "code",
   "execution_count": 58,
   "metadata": {},
   "outputs": [
    {
     "data": {
      "image/png": "[encoded data removed]",
      "text/plain": [
       "<Figure size 432x288 with 1 Axes>"
      ]
     },
     "metadata": {
      "needs_background": "light"
     },
     "output_type": "display_data"
    }
   ],
   "source": [
    "drawing(img_data[0])"
   ]
  },
  {
   "cell_type": "markdown",
   "metadata": {},
   "source": [
    "### SVM classifier"
   ]
  },
  {
   "cell_type": "code",
   "execution_count": 112,
   "metadata": {},
   "outputs": [],
   "source": [
    "class SVM:\n",
    "    \n",
    "    def __init__(self,c=1.0):\n",
    "        self.c = c\n",
    "        self.w = 0\n",
    "        self.b = 0\n",
    "        \n",
    "    def hingeLoss(self,w,x,y,b):\n",
    "        loss = 0.0\n",
    "        \n",
    "        loss += 0.5*np.dot(w,w.T)\n",
    "        \n",
    "        m = x.shape[0]\n",
    "        \n",
    "        for i in range(m):\n",
    "            \n",
    "            ti = y[i]*(np.dot(w,x[i].T)+b)\n",
    "            loss += self.c * max(0,1-ti)\n",
    "            \n",
    "        return loss[0][0]\n",
    "    \n",
    "    def fit(self,x,y,learning_rate=0.00001,batch_size=100,maxItr=1000):\n",
    "        \n",
    "        no_of_features = x.shape[1]\n",
    "        no_of_samples = x.shape[0]\n",
    "        \n",
    "        c = self.c\n",
    "        n = learning_rate\n",
    "        \n",
    "        #init model parameters\n",
    "        w = np.zeros((1,no_of_features))\n",
    "        bias = 0\n",
    "        \n",
    "        #initial loss\n",
    "        #print(self.hingeLoss(w,x,y,bias))\n",
    "        \n",
    "        #Training part\n",
    "        losses = []\n",
    "        \n",
    "        for i in range(maxItr):\n",
    "            \n",
    "            l = self.hingeLoss(w,x,y,bias)\n",
    "            \n",
    "            losses.append(l)\n",
    "            \n",
    "            ids = np.arange(no_of_samples)\n",
    "            np.random.shuffle(ids)\n",
    "            \n",
    "            #batch gradient descent with random shuffling\n",
    "            \n",
    "            for batch_start in range(0,no_of_samples,batch_size):\n",
    "                gradw = 0\n",
    "                gradb =0\n",
    "                \n",
    "                for j in range(batch_start,batch_start+batch_size):\n",
    "                    if j<no_of_samples:\n",
    "                        i = ids[j]\n",
    "                        ti = y[i]*(np.dot(w,x[i].T) + bias)\n",
    "                        \n",
    "                        if ti>1:\n",
    "                            gradw += 0\n",
    "                            gradb += 0\n",
    "                        else:\n",
    "                            gradw += c*y[i]*x[i]\n",
    "                            gradb += c*y[i]\n",
    "                            \n",
    "                w = w -n*w + n*gradw\n",
    "                bias = bias + n*gradb\n",
    "         \n",
    "        \n",
    "        self.w = w\n",
    "        self.b = bias\n",
    "        return w,bias,losses"
   ]
  },
  {
   "cell_type": "markdown",
   "metadata": {},
   "source": [
    "### Convert the data for one-for-one classification"
   ]
  },
  {
   "cell_type": "code",
   "execution_count": 113,
   "metadata": {},
   "outputs": [
    {
     "name": "stdout",
     "output_type": "stream",
     "text": [
      "(808, 3072) (808,)\n"
     ]
    }
   ],
   "source": [
    "m = img_data.shape[0]\n",
    "img_data = img_data.reshape(m,-1)\n",
    "print(img_data.shape,labels.shape)"
   ]
  },
  {
   "cell_type": "code",
   "execution_count": 114,
   "metadata": {},
   "outputs": [
    {
     "name": "stdout",
     "output_type": "stream",
     "text": [
      "4\n"
     ]
    }
   ],
   "source": [
    "classes = len(np.unique(labels))\n",
    "print(classes)"
   ]
  },
  {
   "cell_type": "code",
   "execution_count": 115,
   "metadata": {},
   "outputs": [],
   "source": [
    "def classWiseData(x,y):\n",
    "    data = {}\n",
    "    \n",
    "    for i in range(classes):\n",
    "        data[i] = []\n",
    "        \n",
    "    for i in range(x.shape[0]):\n",
    "        data[y[i]].append(x[i])\n",
    "        \n",
    "    for k in data.keys():\n",
    "        data[k] = np.array(data[k])\n",
    "        \n",
    "    return data"
   ]
  },
  {
   "cell_type": "code",
   "execution_count": 116,
   "metadata": {},
   "outputs": [],
   "source": [
    "data = classWiseData(img_data,labels)\n"
   ]
  },
  {
   "cell_type": "code",
   "execution_count": 117,
   "metadata": {},
   "outputs": [],
   "source": [
    "def getDataPairForSVM(d1,d2):\n",
    "    l1,l2 = d1.shape[0],d2.shape[0]\n",
    "    \n",
    "    samples = l1+l2\n",
    "    features = d1.shape[1]\n",
    "    \n",
    "    data_pair = np.zeros((samples,features))\n",
    "    data_labels = np.zeros((samples,))\n",
    "    \n",
    "    data_pair[:l1,:] = d1\n",
    "    data_pair[l1:,:] = d2\n",
    "    \n",
    "    data_labels[:l1] = -1\n",
    "    data_labels[l1:] = +1\n",
    "    \n",
    "    return data_pair,data_labels\n",
    "    "
   ]
  },
  {
   "cell_type": "markdown",
   "metadata": {},
   "source": [
    "### Training NC2 SVM's classifiers"
   ]
  },
  {
   "cell_type": "code",
   "execution_count": 118,
   "metadata": {},
   "outputs": [],
   "source": [
    "mysvm = SVM()"
   ]
  },
  {
   "cell_type": "code",
   "execution_count": 119,
   "metadata": {},
   "outputs": [],
   "source": [
    "def trainSVMs():\n",
    "    \n",
    "    svm_classifiers = {}\n",
    "    for i in range(classes):\n",
    "        svm_classifiers[i] = {}\n",
    "        for j in range(i+1,classes):\n",
    "            xpair,ypair = getDataPairForSVM(data[i],data[j])\n",
    "            wts,b,loss = mysvm.fit(xpair,ypair)\n",
    "            svm_classifiers[i][j] = (wts,b)\n",
    "            \n",
    "    return svm_classifiers"
   ]
  },
  {
   "cell_type": "code",
   "execution_count": 120,
   "metadata": {},
   "outputs": [],
   "source": [
    "svm_classifiers = trainSVMs()"
   ]
  },
  {
   "cell_type": "code",
   "execution_count": 121,
   "metadata": {},
   "outputs": [
    {
     "name": "stdout",
     "output_type": "stream",
     "text": [
      "(1, 3072)\n",
      "-0.01235999999999998\n"
     ]
    }
   ],
   "source": [
    "#parameters for cats and dogs\n",
    "cats_dogs = svm_classifiers[0][1]\n",
    "print(cats_dogs[0].shape)\n",
    "print(cats_dogs[1])"
   ]
  },
  {
   "cell_type": "markdown",
   "metadata": {},
   "source": [
    "### Predictions"
   ]
  },
  {
   "cell_type": "code",
   "execution_count": 122,
   "metadata": {},
   "outputs": [],
   "source": [
    "def binaryPredict(x,w,b):\n",
    "    z  = np.dot(x,w.T) + b\n",
    "    if z>=0:\n",
    "        return 1\n",
    "    else:\n",
    "        return -1"
   ]
  },
  {
   "cell_type": "code",
   "execution_count": 126,
   "metadata": {},
   "outputs": [],
   "source": [
    "def predict(x):\n",
    "    \n",
    "    count = np.zeros((classes,))\n",
    "    \n",
    "    for i in range(classes):\n",
    "        for j in range(i+1,classes):\n",
    "            w,b = svm_classifiers[i][j]\n",
    "            #Take a majority prediction \n",
    "            z = binaryPredict(x,w,b)\n",
    "            \n",
    "            if(z==1):\n",
    "                count[j] += 1\n",
    "            else:\n",
    "                count[i] += 1\n",
    "    \n",
    "    final_prediction = np.argmax(count)\n",
    "    #print(count)\n",
    "    return final_prediction"
   ]
  },
  {
   "cell_type": "code",
   "execution_count": 127,
   "metadata": {},
   "outputs": [
    {
     "name": "stdout",
     "output_type": "stream",
     "text": [
      "3\n",
      "3\n"
     ]
    }
   ],
   "source": [
    "print(predict(img_data[0]))\n",
    "print(labels[0])"
   ]
  },
  {
   "cell_type": "code",
   "execution_count": 128,
   "metadata": {},
   "outputs": [],
   "source": [
    "def accuracy(x,y):\n",
    "    \n",
    "    count = 0\n",
    "    for i in range(x.shape[0]):\n",
    "        prediction = predict(x[i])\n",
    "        if(prediction==y[i]):\n",
    "            count += 1\n",
    "            \n",
    "    return count/x.shape[0]"
   ]
  },
  {
   "cell_type": "code",
   "execution_count": 130,
   "metadata": {},
   "outputs": [
    {
     "data": {
      "text/plain": [
       "0.594059405940594"
      ]
     },
     "execution_count": 130,
     "metadata": {},
     "output_type": "execute_result"
    }
   ],
   "source": [
    "accuracy(img_data,labels)"
   ]
  },
  {
   "cell_type": "markdown",
   "metadata": {},
   "source": [
    "### SVM using sci-kit learn"
   ]
  },
  {
   "cell_type": "code",
   "execution_count": 132,
   "metadata": {},
   "outputs": [],
   "source": [
    "from sklearn import svm"
   ]
  },
  {
   "cell_type": "code",
   "execution_count": 133,
   "metadata": {},
   "outputs": [],
   "source": [
    "svm_ = svm.SVC(kernel='linear',C = 1.0)"
   ]
  },
  {
   "cell_type": "code",
   "execution_count": 134,
   "metadata": {},
   "outputs": [
    {
     "data": {
      "text/plain": [
       "0.6410891089108911"
      ]
     },
     "execution_count": 134,
     "metadata": {},
     "output_type": "execute_result"
    }
   ],
   "source": [
    "svm_.fit(img_data,labels)\n",
    "svm_.score(img_data,labels)"
   ]
  },
  {
   "cell_type": "code",
   "execution_count": null,
   "metadata": {},
   "outputs": [],
   "source": []
  }
 ],
 "metadata": {
  "kernelspec": {
   "display_name": "Python 3",
   "language": "python",
   "name": "python3"
  },
  "language_info": {
   "codemirror_mode": {
    "name": "ipython",
    "version": 3
   },
   "file_extension": ".py",
   "mimetype": "text/x-python",
   "name": "python",
   "nbconvert_exporter": "python",
   "pygments_lexer": "ipython3",
   "version": "3.7.4"
  }
 },
 "nbformat": 4,
 "nbformat_minor": 2
}
