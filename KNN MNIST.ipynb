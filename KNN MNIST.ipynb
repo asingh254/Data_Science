{
 "cells": [
  {
   "cell_type": "code",
   "execution_count": 5,
   "metadata": {},
   "outputs": [],
   "source": [
    "import pandas as pd\n",
    "import numpy as np\n",
    "import matplotlib.pyplot as plt"
   ]
  },
  {
   "cell_type": "markdown",
   "metadata": {},
   "source": [
    "# Data Preprocessing"
   ]
  },
  {
   "cell_type": "code",
   "execution_count": 6,
   "metadata": {},
   "outputs": [
    {
     "name": "stdout",
     "output_type": "stream",
     "text": [
      "(42000, 785)\n"
     ]
    }
   ],
   "source": [
    "df=pd.read_csv('C:/Users/Abhishek Singh/Desktop/ML/Data_Science/Datasets/train.csv')\n",
    "print(df.shape) #first column contains labels of digits and rest 784 contains pixels of a digit"
   ]
  },
  {
   "cell_type": "code",
   "execution_count": 16,
   "metadata": {},
   "outputs": [
    {
     "name": "stdout",
     "output_type": "stream",
     "text": [
      "<class 'numpy.ndarray'>\n",
      "(42000, 784)\n",
      "(42000,)\n",
      "4\n"
     ]
    },
    {
     "data": {
      "image/png": "[encoded data removed]",
      "text/plain": [
       "<Figure size 432x288 with 1 Axes>"
      ]
     },
     "metadata": {
      "needs_background": "light"
     },
     "output_type": "display_data"
    }
   ],
   "source": [
    "data=df.values\n",
    "print(type(data))\n",
    "X=data[:,1:]\n",
    "Y=data[:,0]\n",
    "\n",
    "print(X.shape)\n",
    "print(Y.shape)\n",
    "\n",
    "#we will use 80% of data as training and rest as testing points\n",
    "split=int(0.8*X.shape[0])\n",
    "#print(split)\n",
    "\n",
    "X_train=X[:split,:]\n",
    "Y_train=Y[:split]\n",
    "\n",
    "X_test=X[split:,:]\n",
    "Y_test=Y[split:]\n",
    "\n",
    "#print(X_train.shape,Y_train.shape)\n",
    "#print(X_test.shape,Y_test.shape)\n",
    "\n",
    "def ImgShow(sample):\n",
    "    img=sample.reshape((28,28))\n",
    "    plt.imshow(img,cmap='gray')\n",
    "    plt.plot\n",
    "\n",
    "ImgShow(X_train[3])\n",
    "print(Y_train[3])"
   ]
  },
  {
   "cell_type": "markdown",
   "metadata": {},
   "source": [
    "# KNN Algorithm"
   ]
  },
  {
   "cell_type": "code",
   "execution_count": 21,
   "metadata": {},
   "outputs": [],
   "source": [
    "def dist(x1,x2):  # euclidean distance\n",
    "    return np.sqrt(sum((x1-x2)**2))\n",
    "\n",
    "def knn(X,Y,queryPoint,k=5):\n",
    "    \n",
    "    vals=[] # for storing distance and corresponding labels\n",
    "    \n",
    "    m=X.shape[0]\n",
    "    \n",
    "    for i in range(m):\n",
    "        d=dist(queryPoint,X[i])\n",
    "        vals.append((d,Y[i]))\n",
    "        \n",
    "    vals=sorted(vals)\n",
    "    #nearest/first k points\n",
    "    vals=vals[:k]\n",
    "    \n",
    "    vals=np.array(vals)\n",
    "    #print(vals)\n",
    "    \n",
    "    new_vals=np.unique(vals[:,1],return_counts=True) #for counting frequency of each label\n",
    "    #print(new_vals)\n",
    "    \n",
    "    index=new_vals[1].argmax() #gives index of max frequency\n",
    "    pred=new_vals[0][index]   #gives the label with max frequency\n",
    "    \n",
    "    return pred\n",
    "\n",
    "\n",
    "  "
   ]
  },
  {
   "cell_type": "markdown",
   "metadata": {},
   "source": [
    "# make predictions"
   ]
  },
  {
   "cell_type": "code",
   "execution_count": 22,
   "metadata": {},
   "outputs": [
    {
     "name": "stdout",
     "output_type": "stream",
     "text": [
      "7.0\n",
      "7\n"
     ]
    },
    {
     "data": {
      "image/png": "[encoded data removed]",
      "text/plain": [
       "<Figure size 432x288 with 1 Axes>"
      ]
     },
     "metadata": {
      "needs_background": "light"
     },
     "output_type": "display_data"
    }
   ],
   "source": [
    "pred=knn(X_train,Y_train,X_test[2])\n",
    "print(pred)\n",
    "\n",
    "ImgShow(X_test[2])\n",
    "print(Y_test[2])"
   ]
  },
  {
   "cell_type": "code",
   "execution_count": null,
   "metadata": {},
   "outputs": [],
   "source": []
  }
 ],
 "metadata": {
  "kernelspec": {
   "display_name": "Python 3",
   "language": "python",
   "name": "python3"
  },
  "language_info": {
   "codemirror_mode": {
    "name": "ipython",
    "version": 3
   },
   "file_extension": ".py",
   "mimetype": "text/x-python",
   "name": "python",
   "nbconvert_exporter": "python",
   "pygments_lexer": "ipython3",
   "version": "3.7.4"
  }
 },
 "nbformat": 4,
 "nbformat_minor": 2
}
