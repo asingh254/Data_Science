{
 "cells": [
  {
   "cell_type": "code",
   "execution_count": 1,
   "metadata": {},
   "outputs": [],
   "source": [
    "import cv2\n",
    "import numpy as np\n",
    "import os"
   ]
  },
  {
   "cell_type": "code",
   "execution_count": 2,
   "metadata": {},
   "outputs": [],
   "source": [
    "#knn algorithm for prediction\n",
    "def distance(p1,p2):\n",
    "    return (np.sum((p2-p1)**2))**0.5\n",
    "\n",
    "\n",
    "\n",
    "\n",
    "def knn(X,Y,test,k=5):\n",
    "    m=X.shape[0]\n",
    "    d=[]\n",
    "    for i in range(m):\n",
    "        dist = distance(X[i],test)\n",
    "        d.append((dist,Y[i]))\n",
    "    d = np.array(sorted(d))[:,1]\n",
    "    d = d[:k]\n",
    "    t = np.unique(d,return_counts=True)\n",
    "    idx = np.argmax(t[1])\n",
    "    pred = int(t[0][idx])\n",
    "    return pred"
   ]
  },
  {
   "cell_type": "code",
   "execution_count": 3,
   "metadata": {},
   "outputs": [
    {
     "name": "stdout",
     "output_type": "stream",
     "text": [
      "loading file abhishek.npy\n"
     ]
    }
   ],
   "source": [
    "#data preparation\n",
    "dataset_path = \"./Datasets/face_data/\"\n",
    "names = {}\n",
    "class_id = 0\n",
    "face_data = []\n",
    "labels = []\n",
    "\n",
    "for fx in os.listdir(dataset_path):\n",
    "    if fx.endswith(\".npy\"):\n",
    "        names[class_id] = fx[:-4]\n",
    "        print(\"loading file\",fx)\n",
    "        data_item = np.load(dataset_path + fx)\n",
    "        face_data.append(data_item)\n",
    "        \n",
    "        target = class_id*np.ones((data_item.shape[0],))\n",
    "        labels.append(target)\n",
    "        class_id+=1\n",
    "\n",
    "X = np.concatenate(face_data,axis=0)\n",
    "Y = np.concatenate(labels,axis=0)"
   ]
  },
  {
   "cell_type": "code",
   "execution_count": 4,
   "metadata": {},
   "outputs": [],
   "source": [
    "cap = cv2.VideoCapture(0)\n",
    "face_cascade = cv2.CascadeClassifier(\"haarcascade_frontalface_alt.xml\")\n",
    "\n",
    "while True:\n",
    "    ret,frame = cap.read()\n",
    "    if ret == False:\n",
    "        continue\n",
    "        \n",
    "    faces = face_cascade.detectMultiScale(frame,1.3,5)\n",
    "    if len(faces) == 0:\n",
    "        continue\n",
    "        \n",
    "    for (x,y,w,h) in faces:\n",
    "        offset = 10\n",
    "        face_section = frame[y-offset:y+h+offset,x-offset:x+w+offset]\n",
    "        face_section = cv2.resize(face_section,(100,100))\n",
    "        \n",
    "        cv2.rectangle(frame,(x,y),(x+w,y+h),(0,255,255),0)\n",
    "        \n",
    "    test = face_section.flatten()\n",
    "    pred = knn(X,Y,test)\n",
    "    \n",
    "    pred = names[pred]\n",
    "    \n",
    "    cv2.putText(frame,pred, (x,y), cv2.FONT_HERSHEY_SIMPLEX, 2, 255)\n",
    "    cv2.imshow('VideoCapture',frame)\n",
    "    \n",
    "    key_pressed = cv2.waitKey(1) & 0xFF\n",
    "    if key_pressed == ord('q'):\n",
    "        break\n",
    "    \n",
    "cap.release()\n",
    "cv2.destroyAllWindows()\n",
    "\n",
    "        \n",
    "        \n",
    "    "
   ]
  },
  {
   "cell_type": "code",
   "execution_count": null,
   "metadata": {},
   "outputs": [],
   "source": []
  }
 ],
 "metadata": {
  "kernelspec": {
   "display_name": "Python 3",
   "language": "python",
   "name": "python3"
  },
  "language_info": {
   "codemirror_mode": {
    "name": "ipython",
    "version": 3
   },
   "file_extension": ".py",
   "mimetype": "text/x-python",
   "name": "python",
   "nbconvert_exporter": "python",
   "pygments_lexer": "ipython3",
   "version": "3.7.4"
  }
 },
 "nbformat": 4,
 "nbformat_minor": 2
}
