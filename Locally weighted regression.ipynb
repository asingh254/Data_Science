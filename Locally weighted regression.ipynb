{
 "cells": [
  {
   "cell_type": "markdown",
   "metadata": {},
   "source": [
    "# Loading Data"
   ]
  },
  {
   "cell_type": "code",
   "execution_count": 34,
   "metadata": {},
   "outputs": [],
   "source": [
    "import numpy as np\n",
    "import matplotlib.pyplot as plt\n",
    "import pandas as pd"
   ]
  },
  {
   "cell_type": "code",
   "execution_count": 35,
   "metadata": {},
   "outputs": [
    {
     "name": "stdout",
     "output_type": "stream",
     "text": [
      "(99, 1)\n",
      "(99, 1)\n"
     ]
    }
   ],
   "source": [
    "dfx = pd.read_csv(\"C:/Users/Abhishek Singh/Desktop/ML/Data_Science/Datasets/Locally weighted regression/weightedX.csv\")\n",
    "dfy = pd.read_csv(\"C:/Users/Abhishek Singh/Desktop/ML/Data_Science/Datasets/Locally weighted regression/weightedY.csv\")\n",
    "\n",
    "X = dfx.values\n",
    "Y = dfx.values\n",
    "\n",
    "print(X.shape)\n",
    "print(Y.shape)"
   ]
  },
  {
   "cell_type": "code",
   "execution_count": 36,
   "metadata": {},
   "outputs": [
    {
     "data": {
      "image/png": "[encoded data removed]",
      "text/plain": [
       "<Figure size 576x396 with 1 Axes>"
      ]
     },
     "metadata": {},
     "output_type": "display_data"
    }
   ],
   "source": [
    "#noramalise\n",
    "u = X.mean()\n",
    "std = X.std()\n",
    "X = (X-u)/std\n",
    "\n",
    "\n",
    "plt.scatter(X,Y)\n",
    "plt.show()"
   ]
  },
  {
   "cell_type": "markdown",
   "metadata": {},
   "source": [
    "# finding w(mxm diagonal matrix)"
   ]
  },
  {
   "cell_type": "code",
   "execution_count": 37,
   "metadata": {},
   "outputs": [],
   "source": [
    "def getW(query_point,X,tau):\n",
    "    m = X.shape[0]\n",
    "    W = np.mat(np.eye(m))\n",
    "    x = query_point\n",
    "    \n",
    "    for i in range(m):\n",
    "        W[i,i] = np.exp(np.dot((X[i]-x),(X[i]-x).T)/-2*tau*tau)\n",
    "        \n",
    "    return W"
   ]
  },
  {
   "cell_type": "code",
   "execution_count": 53,
   "metadata": {},
   "outputs": [],
   "source": [
    "X = np.mat(X)\n",
    "Y = np.mat(Y)\n",
    "m = X.shape[0]\n"
   ]
  },
  {
   "cell_type": "markdown",
   "metadata": {},
   "source": [
    "# Make predictions"
   ]
  },
  {
   "cell_type": "code",
   "execution_count": 56,
   "metadata": {},
   "outputs": [],
   "source": [
    "def predict(X,Y,query_point,tau):\n",
    "    ones = np.ones((m,1))\n",
    "    X_ = np.hstack((X,ones))\n",
    "    \n",
    "    #print(X_.shape)\n",
    "    qx = np.mat([query_point,1])\n",
    "    \n",
    "    W = getW(qx,X_,tau)\n",
    "    \n",
    "    theta = np.linalg.pinv(X_.T*(W*X_))*(X_.T*(W*Y))\n",
    "    #print(theta.shape)\n",
    "    \n",
    "    pred = np.dot(qx,theta)\n",
    "    \n",
    "    return theta,pred\n",
    "    "
   ]
  },
  {
   "cell_type": "code",
   "execution_count": 60,
   "metadata": {},
   "outputs": [
    {
     "name": "stdout",
     "output_type": "stream",
     "text": [
      "[[8.82128025]]\n"
     ]
    }
   ],
   "source": [
    "theta,pred = predict(X,Y,1,1)\n",
    "print(pred)"
   ]
  },
  {
   "cell_type": "code",
   "execution_count": null,
   "metadata": {},
   "outputs": [],
   "source": []
  },
  {
   "cell_type": "code",
   "execution_count": null,
   "metadata": {},
   "outputs": [],
   "source": []
  }
 ],
 "metadata": {
  "kernelspec": {
   "display_name": "Python 3",
   "language": "python",
   "name": "python3"
  },
  "language_info": {
   "codemirror_mode": {
    "name": "ipython",
    "version": 3
   },
   "file_extension": ".py",
   "mimetype": "text/x-python",
   "name": "python",
   "nbconvert_exporter": "python",
   "pygments_lexer": "ipython3",
   "version": "3.7.4"
  }
 },
 "nbformat": 4,
 "nbformat_minor": 2
}
